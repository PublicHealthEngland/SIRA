{
 "cells": [
  {
   "cell_type": "markdown",
   "metadata": {},
   "source": [
    "# Border Screening for COVID-19\n",
    "\n",
    "----\n",
    "\n",
    "This notebook is to be used to obtain detection rates from the BoarderScreening code for a range of scenarios specific to the currently ongoing COVID-19 disease outbreak. The data obtained in this notebook is to be used in the border screening paper, where it will be used to quantify the impact of using border screening as a risk reducing method during this outbreaks.\n",
    "\n",
    "The range of scenarios shall be defined by a variations in flight time, as well as infection window. This then describes situations where the outbreak has occured in countries of varying distance away from the destination country, as well as simulating a varying range of times that the disease has been prevalent in the countries."
   ]
  },
  {
   "cell_type": "code",
   "execution_count": 1,
   "metadata": {},
   "outputs": [],
   "source": [
    "from sira import border_screening\n",
    "import numpy.random as rand\n",
    "import scipy.stats as stats\n",
    "import pandas as pd\n",
    "import numpy as np"
   ]
  },
  {
   "cell_type": "code",
   "execution_count": 9,
   "metadata": {},
   "outputs": [],
   "source": [
    "flight_ranges = [(3,5), (9,11), (15,17)]\n",
    "\n",
    "covid_inc_dist = stats.lognorm\n",
    "\n",
    "covid_inc_params = {'s':0.47238, 'scale': np.exp(1.6112)}"
   ]
  },
  {
   "cell_type": "markdown",
   "metadata": {},
   "source": [
    "### Incubation period distributions\n",
    "\n",
    "We now quickly test that these distributions look as they should. We therefore quickly draw the dstributions described above to see how they appear."
   ]
  },
  {
   "cell_type": "code",
   "execution_count": 10,
   "metadata": {},
   "outputs": [
    {
     "data": {
      "image/png": "[encoded data removed]",
      "text/plain": [
       "<Figure size 432x288 with 1 Axes>"
      ]
     },
     "metadata": {
      "needs_background": "light"
     },
     "output_type": "display_data"
    }
   ],
   "source": [
    "import matplotlib.pyplot as plt\n",
    "\n",
    "time_range = np.linspace(0, 20, 10000)\n",
    "\n",
    "fig, ax = plt.subplots(1,1)\n",
    "\n",
    "fig.suptitle('COVID-19 incubation dsitribution')\n",
    "\n",
    "ax.plot(time_range, covid_inc_dist.pdf(time_range, **covid_inc_params))\n",
    "    \n",
    "plt.show()"
   ]
  },
  {
   "cell_type": "code",
   "execution_count": 11,
   "metadata": {},
   "outputs": [],
   "source": [
    "# This then gives a rough time scale of some disease of concern establishing and the authorities shutting the border.\n",
    "# Although we are free to change this\n",
    "\n",
    "border_shut = [72, 168, 336]"
   ]
  },
  {
   "cell_type": "code",
   "execution_count": 17,
   "metadata": {},
   "outputs": [],
   "source": [
    "df = pd.DataFrame(columns=['Incubation distribution', \n",
    "                           'Exposure time range (time before flight)',\n",
    "                           'Flight time range',\n",
    "                           'Calculated border screening success rate'], index=range(1,10))"
   ]
  },
  {
   "cell_type": "code",
   "execution_count": 18,
   "metadata": {},
   "outputs": [],
   "source": [
    "for i in range(9):\n",
    "    fly = flight_ranges[i % 3]\n",
    "    exp = border_shut[int(np.floor(i / 3))]\n",
    "                          \n",
    "    screening = border_screening(num_people = 100000,\n",
    "                          flight_dist = rand.uniform,\n",
    "                          exp_dist = rand.uniform,\n",
    "                          inc_dist = rand.lognormal, \n",
    "                          time_scale = 'days',\n",
    "                          **{\n",
    "                             'exp':{'low':0, 'high':exp},\n",
    "                             'inc':{'sigma':0.47238, 'mean': 1.6112},\n",
    "                             'flight':{'low':fly[0], 'high':fly[1]}\n",
    "                             }\n",
    "                          )\n",
    "                          \n",
    "    df.loc[i+1] = pd.Series({'Incubation distribution':'Log-Normal (mu: 1.6112, sigma: 0.47238)',\n",
    "                           'Flight time range': 'Uniform {}'.format(fly), \n",
    "                           'Exposure time range (time before flight)': 'Uniform (0, {})'.format(exp), \n",
    "                           'Calculated border screening success rate': screening})"
   ]
  },
  {
   "cell_type": "code",
   "execution_count": 19,
   "metadata": {},
   "outputs": [
    {
     "data": {
      "text/html": [
       "<div>\n",
       "<style scoped>\n",
       "    .dataframe tbody tr th:only-of-type {\n",
       "        vertical-align: middle;\n",
       "    }\n",
       "\n",
       "    .dataframe tbody tr th {\n",
       "        vertical-align: top;\n",
       "    }\n",
       "\n",
       "    .dataframe thead th {\n",
       "        text-align: right;\n",
       "    }\n",
       "</style>\n",
       "<table border=\"1\" class=\"dataframe\">\n",
       "  <thead>\n",
       "    <tr style=\"text-align: right;\">\n",
       "      <th></th>\n",
       "      <th>Incubation distribution</th>\n",
       "      <th>Exposure time range (time before flight)</th>\n",
       "      <th>Flight time range</th>\n",
       "      <th>Calculated border screening success rate</th>\n",
       "    </tr>\n",
       "  </thead>\n",
       "  <tbody>\n",
       "    <tr>\n",
       "      <th>1</th>\n",
       "      <td>Log-Normal (mu: 1.6112, sigma: 0.47238)</td>\n",
       "      <td>Uniform (0, 72)</td>\n",
       "      <td>Uniform (3, 5)</td>\n",
       "      <td>0.00830503</td>\n",
       "    </tr>\n",
       "    <tr>\n",
       "      <th>2</th>\n",
       "      <td>Log-Normal (mu: 1.6112, sigma: 0.47238)</td>\n",
       "      <td>Uniform (0, 72)</td>\n",
       "      <td>Uniform (9, 11)</td>\n",
       "      <td>0.024882</td>\n",
       "    </tr>\n",
       "    <tr>\n",
       "      <th>3</th>\n",
       "      <td>Log-Normal (mu: 1.6112, sigma: 0.47238)</td>\n",
       "      <td>Uniform (0, 72)</td>\n",
       "      <td>Uniform (15, 17)</td>\n",
       "      <td>0.0439793</td>\n",
       "    </tr>\n",
       "    <tr>\n",
       "      <th>4</th>\n",
       "      <td>Log-Normal (mu: 1.6112, sigma: 0.47238)</td>\n",
       "      <td>Uniform (0, 168)</td>\n",
       "      <td>Uniform (3, 5)</td>\n",
       "      <td>0.0253212</td>\n",
       "    </tr>\n",
       "    <tr>\n",
       "      <th>5</th>\n",
       "      <td>Log-Normal (mu: 1.6112, sigma: 0.47238)</td>\n",
       "      <td>Uniform (0, 168)</td>\n",
       "      <td>Uniform (9, 11)</td>\n",
       "      <td>0.065421</td>\n",
       "    </tr>\n",
       "    <tr>\n",
       "      <th>6</th>\n",
       "      <td>Log-Normal (mu: 1.6112, sigma: 0.47238)</td>\n",
       "      <td>Uniform (0, 168)</td>\n",
       "      <td>Uniform (15, 17)</td>\n",
       "      <td>0.103289</td>\n",
       "    </tr>\n",
       "    <tr>\n",
       "      <th>7</th>\n",
       "      <td>Log-Normal (mu: 1.6112, sigma: 0.47238)</td>\n",
       "      <td>Uniform (0, 336)</td>\n",
       "      <td>Uniform (3, 5)</td>\n",
       "      <td>0.0296564</td>\n",
       "    </tr>\n",
       "    <tr>\n",
       "      <th>8</th>\n",
       "      <td>Log-Normal (mu: 1.6112, sigma: 0.47238)</td>\n",
       "      <td>Uniform (0, 336)</td>\n",
       "      <td>Uniform (9, 11)</td>\n",
       "      <td>0.0735405</td>\n",
       "    </tr>\n",
       "    <tr>\n",
       "      <th>9</th>\n",
       "      <td>Log-Normal (mu: 1.6112, sigma: 0.47238)</td>\n",
       "      <td>Uniform (0, 336)</td>\n",
       "      <td>Uniform (15, 17)</td>\n",
       "      <td>0.119969</td>\n",
       "    </tr>\n",
       "  </tbody>\n",
       "</table>\n",
       "</div>"
      ],
      "text/plain": [
       "                   Incubation distribution  \\\n",
       "1  Log-Normal (mu: 1.6112, sigma: 0.47238)   \n",
       "2  Log-Normal (mu: 1.6112, sigma: 0.47238)   \n",
       "3  Log-Normal (mu: 1.6112, sigma: 0.47238)   \n",
       "4  Log-Normal (mu: 1.6112, sigma: 0.47238)   \n",
       "5  Log-Normal (mu: 1.6112, sigma: 0.47238)   \n",
       "6  Log-Normal (mu: 1.6112, sigma: 0.47238)   \n",
       "7  Log-Normal (mu: 1.6112, sigma: 0.47238)   \n",
       "8  Log-Normal (mu: 1.6112, sigma: 0.47238)   \n",
       "9  Log-Normal (mu: 1.6112, sigma: 0.47238)   \n",
       "\n",
       "  Exposure time range (time before flight) Flight time range  \\\n",
       "1                          Uniform (0, 72)    Uniform (3, 5)   \n",
       "2                          Uniform (0, 72)   Uniform (9, 11)   \n",
       "3                          Uniform (0, 72)  Uniform (15, 17)   \n",
       "4                         Uniform (0, 168)    Uniform (3, 5)   \n",
       "5                         Uniform (0, 168)   Uniform (9, 11)   \n",
       "6                         Uniform (0, 168)  Uniform (15, 17)   \n",
       "7                         Uniform (0, 336)    Uniform (3, 5)   \n",
       "8                         Uniform (0, 336)   Uniform (9, 11)   \n",
       "9                         Uniform (0, 336)  Uniform (15, 17)   \n",
       "\n",
       "  Calculated border screening success rate  \n",
       "1                               0.00830503  \n",
       "2                                 0.024882  \n",
       "3                                0.0439793  \n",
       "4                                0.0253212  \n",
       "5                                 0.065421  \n",
       "6                                 0.103289  \n",
       "7                                0.0296564  \n",
       "8                                0.0735405  \n",
       "9                                 0.119969  "
      ]
     },
     "execution_count": 19,
     "metadata": {},
     "output_type": "execute_result"
    }
   ],
   "source": [
    "df"
   ]
  },
  {
   "cell_type": "code",
   "execution_count": 20,
   "metadata": {},
   "outputs": [],
   "source": [
    "import os\n",
    "cwd_path = os.getcwd()\n",
    "save_path = os.path.join(cwd_path, 'BorderScreening_COVID.csv')\n",
    "\n",
    "df.to_csv(save_path)"
   ]
  }
 ],
 "metadata": {
  "kernelspec": {
   "display_name": "Python 3",
   "language": "python",
   "name": "python3"
  },
  "language_info": {
   "codemirror_mode": {
    "name": "ipython",
    "version": 3
   },
   "file_extension": ".py",
   "mimetype": "text/x-python",
   "name": "python",
   "nbconvert_exporter": "python",
   "pygments_lexer": "ipython3",
   "version": "3.7.4"
  }
 },
 "nbformat": 4,
 "nbformat_minor": 4
}
